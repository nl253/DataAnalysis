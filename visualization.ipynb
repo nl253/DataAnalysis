{
 "cells": [
  {
   "cell_type": "markdown",
   "metadata": {
    "collapsed": true
   },
   "source": [
    ""
   ]
  },
  {
   "cell_type": "markdown",
   "metadata": {},
   "source": [
    "## Data can be also fetched from a remote location "
   ]
  },
  {
   "cell_type": "code",
   "execution_count": 2,
   "metadata": {},
   "outputs": [],
   "source": [
    "import faker\n",
    "gen = faker.Faker()\n",
    "\n",
    "data = [(gen.name(), gen.sha256(), gen.url(), gen.address(), gen.date(), gen.email()) for i in range(20000)]"
   ]
  },
  {
   "cell_type": "markdown",
   "metadata": {},
   "source": [
    "## Connect to SQLite database"
   ]
  },
  {
   "cell_type": "code",
   "execution_count": 3,
   "metadata": {},
   "outputs": [],
   "source": [
    "import sqlite3\n",
    "from sqlite3 import Connection, Cursor\n",
    "connection: Connection = sqlite3.connect(\"database\")\n",
    "cursor: Cursor = connection.cursor()"
   ]
  },
  {
   "cell_type": "code",
   "execution_count": 4,
   "metadata": {},
   "outputs": [],
   "source": [
    "# if needed make the table\n",
    "# cursor.execute(\"CREATE TABLE data( name TEXT, sha TEXT, url TEXT, address TEXT, date TEXT, email TEXT )\")\n",
    "for row in data:\n",
    "    cursor.execute(\"INSERT INTO data VALUES (?, ?, ?, ?, ?, ?)\", row)\n",
    "connection.commit()"
   ]
  },
  {
   "cell_type": "markdown",
   "metadata": {},
   "source": [
    "## Use DataFrames for analysis"
   ]
  },
  {
   "cell_type": "code",
   "execution_count": 8,
   "metadata": {},
   "outputs": [
    {
     "name": "stdout",
     "output_type": "stream",
     "text": [
      "0            Amanda Petersen\n1              Dalton Garcia\n2            Valerie Vasquez\n3                Kelly Woods\n4               Julie Hughes\n5                 Gina Adams\n6            Michael Johnson\n7            Kimberly Miller\n8             Lori Dominguez\n9              Allison Marsh\n10                Pam Carter\n11             Thomas Gibson\n12               Diane Allen\n13              Julia Wilson\n14          Benjamin Barrett\n15           Katherine Perez\n16       Stephanie Hernandez\n17               David Brown\n18            Michael Branch\n19          Alejandra Garcia\n20                Jason Hood\n21             Jason Ramirez\n22             Melinda Brown\n23           Nicholas Clarke\n24                John Reese\n25            Christy Golden\n26           Brittany Guzman\n27               Lisa Curtis\n28             Gerald Thomas\n29            Mrs. Jodi Rowe\n                ...         \n39970        Heidi Patterson\n39971          Andrea Norman\n39972           Anita Macias\n39973           Kenneth Khan\n39974           Ernest Brown\n39975           Bruce Walker\n39976          Richard Terry\n39977             Renee Tran\n39978          James Fuentes\n39979           Brandy Mccoy\n39980             Lori Smith\n39981           Oscar Hayden\n39982            Kristy Rice\n39983           Marie Thomas\n39984          Wayne Johnson\n39985              Lori Hunt\n39986             Adam Baird\n39987            Renee Silva\n39988          Denise Gordon\n39989         Caitlin Turner\n39990             Joel Irwin\n39991           James Newton\n39992      Jennifer Castillo\n39993            Cody Flores\n39994       Jamie Washington\n39995             Tonya Ford\n39996             Amy Barton\n39997           Jeff Rosales\n39998           Stacey Smith\n39999       Kristen Gonzales\nName: name, Length: 40000, dtype: object\n"
     ]
    }
   ],
   "source": [
    "from pandas import DataFrame\n",
    "cursor.execute(\"SELECT * FROM data\")\n",
    "df = DataFrame(cursor.fetchall())\n",
    "df.columns = [\"name\", \"sha\", \"url\", \"address\", \"date\", \"email\"]\n",
    "emails = df[\"email\"]\n",
    "addresses = df[\"address\"]\n",
    "shas = df[\"sha\"]\n",
    "urls = df[\"url\"]\n",
    "dates = df[\"date\"]\n",
    "names = df[\"name\"]\n",
    "print(names)"
   ]
  },
  {
   "cell_type": "markdown",
   "metadata": {},
   "source": [
    "But..."
   ]
  },
  {
   "cell_type": "markdown",
   "metadata": {},
   "source": [
    "## Selecting multiple columns"
   ]
  },
  {
   "cell_type": "code",
   "execution_count": 10,
   "metadata": {},
   "outputs": [
    {
     "name": "stdout",
     "output_type": "stream",
     "text": [
      "                                       email                 name\n0                     morganana@anderson.com      Amanda Petersen\n1                         zjohnson@yahoo.com        Dalton Garcia\n2                   ubrooks@beard-brooks.com      Valerie Vasquez\n3                          rtapia@curtis.com          Kelly Woods\n4                  zavalakristin@hotmail.com         Julie Hughes\n5                  mercadokayla@adams-li.com           Gina Adams\n6                    murphypeter@hotmail.com      Michael Johnson\n7                          sheri73@yahoo.com      Kimberly Miller\n8                  johnsonisaac@leonard.info       Lori Dominguez\n9                imiller@jacobs-martinez.com        Allison Marsh\n10                    christina78@barron.com           Pam Carter\n11                rodriguezdarrell@gmail.com        Thomas Gibson\n12                    juliankeller@yahoo.com          Diane Allen\n13                        fpoole@elliott.biz         Julia Wilson\n14                  schmidtsandra@santos.com     Benjamin Barrett\n15                 ronaldrobinson@torres.org      Katherine Perez\n16              whitebrian@hoffman-cohen.com  Stephanie Hernandez\n17                     ginasmall@hotmail.com          David Brown\n18                      lgarner@mcdonald.com       Michael Branch\n19                   kathleen86@trujillo.com     Alejandra Garcia\n20                    michelelewis@smith.biz           Jason Hood\n21               whiteheadrichard@nelson.net        Jason Ramirez\n22                   jasonanderson@gmail.com        Melinda Brown\n23                      lbaxter@woodward.com      Nicholas Clarke\n24          janetfletcher@coleman-morris.biz           John Reese\n25                courtneybowers@hotmail.com       Christy Golden\n26                 terrencegordon@flores.com      Brittany Guzman\n27               ashleepatterson@hotmail.com          Lisa Curtis\n28                        austin82@gmail.com        Gerald Thomas\n29                     smithdylan@vargas.net       Mrs. Jodi Rowe\n...                                      ...                  ...\n19970                   greenshawn@young.com        Robert Wilson\n19971                  toddavila@watson.info           Amy Brewer\n19972               smithelizabeth@moore.com     Samuel Henderson\n19973                   twilliams@garner.com        Ronald Rogers\n19974                    hornalan@gordon.com    Allison Contreras\n19975                      dwilson@yahoo.com          Albert Gill\n19976                  gordonwalsh@gmail.com       George Sanchez\n19977               tcrosby@yang-aguirre.biz         Michelle Kim\n19978                     mary24@hotmail.com     Charles Reynolds\n19979               townsendmelissa@park.com         Donna Adkins\n19980          qjones@strickland-holland.net           John Stone\n19981                      amunoz@kaiser.net         Stacy Patton\n19982              melissa43@nguyen-paul.com         Richard Diaz\n19983  michaeldickerson@brooks-zimmerman.com        Jimmy Johnson\n19984               sarahbradley@russell.org          Erik Knight\n19985                        jon25@black.net          Wanda Smith\n19986             jessicamoore@blackburn.com      Jennifer Guzman\n19987                   george07@hotmail.com       Karen Thompson\n19988            michael59@bradley-davis.org        Jason Schmidt\n19989                    clynch@campbell.net        Patricia Bell\n19990                  benjamin87@weber.info       Dr. Joel Weiss\n19991                  johnwinters@yahoo.com       Rodney Ramirez\n19992                    steven89@norman.com      Paul Washington\n19993                      james52@yahoo.com        Alyssa Franco\n19994                  jamesconley@yahoo.com         Mark Sanchez\n19995               bryantjeanne@hotmail.com       Jessica Bryant\n19996                    kelly71@hotmail.com        Donald Daniel\n19997                amandaramirez@yahoo.com      Jennifer Hudson\n19998                     denise62@yahoo.com          Sarah Brown\n19999                  edwardbanks@gmail.com         Tonya Garcia\n\n[20000 rows x 2 columns]\n"
     ]
    }
   ],
   "source": [
    "names_emails = df[[\"email\", \"name\"]]\n",
    "print(names_emails)"
   ]
  },
  {
   "cell_type": "code",
   "execution_count": 11,
   "metadata": {},
   "outputs": [
    {
     "name": "stdout",
     "output_type": "stream",
     "text": [
      "<class 'pandas.core.frame.DataFrame'>\n"
     ]
    }
   ],
   "source": [
    "print(type(names_emails))"
   ]
  },
  {
   "cell_type": "markdown",
   "metadata": {},
   "source": [
    "But..."
   ]
  },
  {
   "cell_type": "code",
   "execution_count": 13,
   "metadata": {},
   "outputs": [
    {
     "name": "stdout",
     "output_type": "stream",
     "text": [
      "emails is <class 'pandas.core.series.Series'> and names_emails is <class 'pandas.core.frame.DataFrame'>.\n"
     ]
    }
   ],
   "source": [
    "print(f\"emails is {type(df['email'])} and names_emails is {type(names_emails)}.\")"
   ]
  },
  {
   "cell_type": "code",
   "execution_count": 17,
   "metadata": {
    "collapsed": true
   },
   "outputs": [
    {
     "name": "stdout",
     "output_type": "stream",
     "text": [
      "dir of a Series is \n\n['T', '_AXIS_ALIASES', '_AXIS_IALIASES', '_AXIS_LEN', '_AXIS_NAMES', '_AXIS_NUMBERS', '_AXIS_ORDERS', '_AXIS_REVERSED', '_AXIS_SLICEMAP', '__abs__', '__add__', '__and__', '__array__', '__array_prepare__', '__array_priority__', '__array_wrap__', '__bool__', '__bytes__', '__class__', '__contains__', '__copy__', '__deepcopy__', '__delattr__', '__delitem__', '__dict__', '__dir__', '__div__', '__divmod__', '__doc__', '__eq__', '__finalize__', '__float__', '__floordiv__', '__format__', '__ge__', '__getattr__', '__getattribute__', '__getitem__', '__getstate__', '__gt__', '__hash__', '__iadd__', '__imul__', '__init__', '__init_subclass__', '__int__', '__invert__', '__ipow__', '__isub__', '__iter__', '__itruediv__', '__le__', '__len__', '__long__', '__lt__', '__mod__', '__module__', '__mul__', '__ne__', '__neg__', '__new__', '__nonzero__', '__or__', '__pow__', '__radd__', '__rand__', '__rdiv__', '__reduce__', '__reduce_ex__', '__repr__', '__rfloordiv__', '__rmod__', '__rmul__', '__ror__', '__round__', '__rpow__', '__rsub__', '__rtruediv__', '__rxor__', '__setattr__', '__setitem__', '__setstate__', '__sizeof__', '__str__', '__sub__', '__subclasshook__', '__truediv__', '__unicode__', '__weakref__', '__xor__', '_accessors', '_add_numeric_operations', '_add_series_only_operations', '_add_series_or_dataframe_operations', '_agg_by_level', '_agg_doc', '_aggregate', '_aggregate_multiple_funcs', '_align_frame', '_align_series', '_allow_index_ops', '_at', '_binop', '_box_item_values', '_builtin_table', '_can_hold_na', '_check_inplace_setting', '_check_is_chained_assignment_possible', '_check_percentile', '_check_setitem_copy', '_clear_item_cache', '_clip_with_scalar', '_consolidate', '_consolidate_inplace', '_construct_axes_dict', '_construct_axes_dict_for_slice', '_construct_axes_dict_from', '_construct_axes_from_arguments', '_constructor', '_constructor_expanddim', '_constructor_sliced', '_convert', '_create_indexer', '_cython_table', '_dir_additions', '_dir_deletions', '_expand_axes', '_from_axes', '_get_axis', '_get_axis_name', '_get_axis_number', '_get_axis_resolvers', '_get_block_manager_axis', '_get_bool_data', '_get_cacher', '_get_index_resolvers', '_get_item_cache', '_get_numeric_data', '_get_values', '_get_values_tuple', '_get_with', '_gotitem', '_iat', '_iget_item_cache', '_iloc', '_index', '_indexed_same', '_info_axis', '_info_axis_name', '_info_axis_number', '_init_mgr', '_internal_names', '_internal_names_set', '_is_builtin_func', '_is_cached', '_is_cython_func', '_is_datelike_mixed_type', '_is_mixed_type', '_is_numeric_mixed_type', '_is_view', '_ix', '_ixs', '_loc', '_make_cat_accessor', '_make_dt_accessor', '_make_str_accessor', '_maybe_cache_changed', '_maybe_update_cacher', '_metadata', '_needs_reindex_multi', '_obj_with_exclusions', '_protect_consolidate', '_reduce', '_reindex_axes', '_reindex_axis', '_reindex_indexer', '_reindex_multi', '_reindex_with_indexers', '_repr_data_resource_', '_repr_latex_', '_reset_cache', '_reset_cacher', '_selected_obj', '_selection', '_selection_list', '_selection_name', '_set_as_cached', '_set_axis', '_set_axis_name', '_set_is_copy', '_set_item', '_set_labels', '_set_name', '_set_subtyp', '_set_values', '_set_with', '_set_with_engine', '_setup_axes', '_shallow_copy', '_slice', '_stat_axis', '_stat_axis_name', '_stat_axis_number', '_try_aggregate_string_function', '_typ', '_unpickle_series_compat', '_update_inplace', '_validate_dtype', '_values', '_where', '_xs', 'abs', 'add', 'add_prefix', 'add_suffix', 'agg', 'aggregate', 'align', 'all', 'any', 'append', 'apply', 'argmax', 'argmin', 'argsort', 'as_blocks', 'as_matrix', 'asfreq', 'asobject', 'asof', 'astype', 'at', 'at_time', 'autocorr', 'axes', 'base', 'between', 'between_time', 'bfill', 'blocks', 'bool', 'clip', 'clip_lower', 'clip_upper', 'combine', 'combine_first', 'compound', 'compress', 'consolidate', 'convert_objects', 'copy', 'corr', 'count', 'cov', 'cummax', 'cummin', 'cumprod', 'cumsum', 'data', 'describe', 'diff', 'div', 'divide', 'dot', 'drop', 'drop_duplicates', 'dropna', 'dtype', 'dtypes', 'duplicated', 'empty', 'eq', 'equals', 'ewm', 'expanding', 'factorize', 'ffill', 'fillna', 'filter', 'first', 'first_valid_index', 'flags', 'floordiv', 'from_array', 'from_csv', 'ftype', 'ftypes', 'ge', 'get', 'get_dtype_counts', 'get_ftype_counts', 'get_value', 'get_values', 'groupby', 'gt', 'hasnans', 'head', 'hist', 'iat', 'idxmax', 'idxmin', 'iloc', 'imag', 'index', 'interpolate', 'is_copy', 'is_monotonic', 'is_monotonic_decreasing', 'is_monotonic_increasing', 'is_unique', 'isin', 'isnull', 'item', 'items', 'itemsize', 'iteritems', 'ix', 'keys', 'kurt', 'kurtosis', 'last', 'last_valid_index', 'le', 'loc', 'lt', 'mad', 'map', 'mask', 'max', 'mean', 'median', 'memory_usage', 'min', 'mod', 'mode', 'mul', 'multiply', 'name', 'nbytes', 'ndim', 'ne', 'nlargest', 'nonzero', 'notnull', 'nsmallest', 'nunique', 'pct_change', 'pipe', 'plot', 'pop', 'pow', 'prod', 'product', 'ptp', 'put', 'quantile', 'radd', 'rank', 'ravel', 'rdiv', 'real', 'reindex', 'reindex_axis', 'reindex_like', 'rename', 'rename_axis', 'reorder_levels', 'repeat', 'replace', 'resample', 'reset_index', 'reshape', 'rfloordiv', 'rmod', 'rmul', 'rolling', 'round', 'rpow', 'rsub', 'rtruediv', 'sample', 'searchsorted', 'select', 'sem', 'set_axis', 'set_value', 'shape', 'shift', 'size', 'skew', 'slice_shift', 'sort_index', 'sort_values', 'sortlevel', 'squeeze', 'std', 'str', 'strides', 'sub', 'subtract', 'sum', 'swapaxes', 'swaplevel', 'tail', 'take', 'to_clipboard', 'to_csv', 'to_dense', 'to_dict', 'to_excel', 'to_frame', 'to_hdf', 'to_json', 'to_latex', 'to_msgpack', 'to_period', 'to_pickle', 'to_sparse', 'to_sql', 'to_string', 'to_timestamp', 'to_xarray', 'tolist', 'transform', 'transpose', 'truediv', 'truncate', 'tshift', 'tz_convert', 'tz_localize', 'unique', 'unstack', 'update', 'valid', 'value_counts', 'values', 'var', 'view', 'where', 'xs']\n"
     ]
    }
   ],
   "source": [
    "print(f\"dir of a Series is... \\n\\n{dir(emails)}\")"
   ]
  },
  {
   "cell_type": "code",
   "execution_count": 19,
   "metadata": {},
   "outputs": [
    {
     "name": "stdout",
     "output_type": "stream",
     "text": [
      "dir of a DataFrame is...\n\n['T', '_AXIS_ALIASES', '_AXIS_IALIASES', '_AXIS_LEN', '_AXIS_NAMES', '_AXIS_NUMBERS', '_AXIS_ORDERS', '_AXIS_REVERSED', '_AXIS_SLICEMAP', '__abs__', '__add__', '__and__', '__array__', '__array_wrap__', '__bool__', '__bytes__', '__class__', '__contains__', '__copy__', '__deepcopy__', '__delattr__', '__delitem__', '__dict__', '__dir__', '__div__', '__doc__', '__eq__', '__finalize__', '__floordiv__', '__format__', '__ge__', '__getattr__', '__getattribute__', '__getitem__', '__getstate__', '__gt__', '__hash__', '__iadd__', '__imul__', '__init__', '__init_subclass__', '__invert__', '__ipow__', '__isub__', '__iter__', '__itruediv__', '__le__', '__len__', '__lt__', '__mod__', '__module__', '__mul__', '__ne__', '__neg__', '__new__', '__nonzero__', '__or__', '__pow__', '__radd__', '__rand__', '__rdiv__', '__reduce__', '__reduce_ex__', '__repr__', '__rfloordiv__', '__rmod__', '__rmul__', '__ror__', '__round__', '__rpow__', '__rsub__', '__rtruediv__', '__rxor__', '__setattr__', '__setitem__', '__setstate__', '__sizeof__', '__str__', '__sub__', '__subclasshook__', '__truediv__', '__unicode__', '__weakref__', '__xor__', '_accessors', '_add_numeric_operations', '_add_series_only_operations', '_add_series_or_dataframe_operations', '_agg_by_level', '_agg_doc', '_aggregate', '_aggregate_multiple_funcs', '_align_frame', '_align_series', '_apply_broadcast', '_apply_empty_result', '_apply_raw', '_apply_standard', '_at', '_box_col_values', '_box_item_values', '_builtin_table', '_check_inplace_setting', '_check_is_chained_assignment_possible', '_check_percentile', '_check_setitem_copy', '_clear_item_cache', '_clip_with_scalar', '_combine_const', '_combine_frame', '_combine_match_columns', '_combine_match_index', '_combine_series', '_combine_series_infer', '_compare_frame', '_compare_frame_evaluate', '_consolidate', '_consolidate_inplace', '_construct_axes_dict', '_construct_axes_dict_for_slice', '_construct_axes_dict_from', '_construct_axes_from_arguments', '_constructor', '_constructor_expanddim', '_constructor_sliced', '_convert', '_count_level', '_create_indexer', '_cython_table', '_dir_additions', '_dir_deletions', '_ensure_valid_index', '_expand_axes', '_flex_compare_frame', '_from_arrays', '_from_axes', '_get_agg_axis', '_get_axis', '_get_axis_name', '_get_axis_number', '_get_axis_resolvers', '_get_block_manager_axis', '_get_bool_data', '_get_cacher', '_get_index_resolvers', '_get_item_cache', '_get_numeric_data', '_get_values', '_getitem_array', '_getitem_column', '_getitem_frame', '_getitem_multilevel', '_getitem_slice', '_gotitem', '_iat', '_iget_item_cache', '_iloc', '_indexed_same', '_info_axis', '_info_axis_name', '_info_axis_number', '_info_repr', '_init_dict', '_init_mgr', '_init_ndarray', '_internal_names', '_internal_names_set', '_is_builtin_func', '_is_cached', '_is_cython_func', '_is_datelike_mixed_type', '_is_mixed_type', '_is_numeric_mixed_type', '_is_view', '_ix', '_ixs', '_join_compat', '_loc', '_maybe_cache_changed', '_maybe_update_cacher', '_metadata', '_needs_reindex_multi', '_obj_with_exclusions', '_protect_consolidate', '_reduce', '_reindex_axes', '_reindex_axis', '_reindex_columns', '_reindex_index', '_reindex_multi', '_reindex_with_indexers', '_repr_data_resource_', '_repr_fits_horizontal_', '_repr_fits_vertical_', '_repr_html_', '_repr_latex_', '_reset_cache', '_reset_cacher', '_sanitize_column', '_selected_obj', '_selection', '_selection_list', '_selection_name', '_series', '_set_as_cached', '_set_axis', '_set_axis_name', '_set_is_copy', '_set_item', '_setitem_array', '_setitem_frame', '_setitem_slice', '_setup_axes', '_shallow_copy', '_slice', '_stat_axis', '_stat_axis_name', '_stat_axis_number', '_try_aggregate_string_function', '_typ', '_unpickle_frame_compat', '_unpickle_matrix_compat', '_update_inplace', '_validate_dtype', '_values', '_where', '_xs', 'abs', 'add', 'add_prefix', 'add_suffix', 'address', 'agg', 'aggregate', 'align', 'all', 'any', 'append', 'apply', 'applymap', 'as_blocks', 'as_matrix', 'asfreq', 'asof', 'assign', 'astype', 'at', 'at_time', 'axes', 'between_time', 'bfill', 'blocks', 'bool', 'boxplot', 'clip', 'clip_lower', 'clip_upper', 'columns', 'combine', 'combine_first', 'compound', 'consolidate', 'convert_objects', 'copy', 'corr', 'corrwith', 'count', 'cov', 'cummax', 'cummin', 'cumprod', 'cumsum', 'date', 'describe', 'diff', 'div', 'divide', 'dot', 'drop', 'drop_duplicates', 'dropna', 'dtypes', 'duplicated', 'email', 'empty', 'eq', 'equals', 'eval', 'ewm', 'expanding', 'ffill', 'fillna', 'filter', 'first', 'first_valid_index', 'floordiv', 'from_csv', 'from_dict', 'from_items', 'from_records', 'ftypes', 'ge', 'get', 'get_dtype_counts', 'get_ftype_counts', 'get_value', 'get_values', 'groupby', 'gt', 'head', 'hist', 'iat', 'idxmax', 'idxmin', 'iloc', 'index', 'info', 'insert', 'interpolate', 'is_copy', 'isin', 'isnull', 'items', 'iteritems', 'iterrows', 'itertuples', 'ix', 'join', 'keys', 'kurt', 'kurtosis', 'last', 'last_valid_index', 'le', 'loc', 'lookup', 'lt', 'mad', 'mask', 'max', 'mean', 'median', 'melt', 'memory_usage', 'merge', 'min', 'mod', 'mode', 'mul', 'multiply', 'name', 'ndim', 'ne', 'nlargest', 'notnull', 'nsmallest', 'nunique', 'pct_change', 'pipe', 'pivot', 'pivot_table', 'plot', 'pop', 'pow', 'prod', 'product', 'quantile', 'query', 'radd', 'rank', 'rdiv', 'reindex', 'reindex_axis', 'reindex_like', 'rename', 'rename_axis', 'reorder_levels', 'replace', 'resample', 'reset_index', 'rfloordiv', 'rmod', 'rmul', 'rolling', 'round', 'rpow', 'rsub', 'rtruediv', 'sample', 'select', 'select_dtypes', 'sem', 'set_axis', 'set_index', 'set_value', 'sha', 'shape', 'shift', 'size', 'skew', 'slice_shift', 'sort_index', 'sort_values', 'sortlevel', 'squeeze', 'stack', 'std', 'style', 'sub', 'subtract', 'sum', 'swapaxes', 'swaplevel', 'tail', 'take', 'to_clipboard', 'to_csv', 'to_dense', 'to_dict', 'to_excel', 'to_feather', 'to_gbq', 'to_hdf', 'to_html', 'to_json', 'to_latex', 'to_msgpack', 'to_panel', 'to_period', 'to_pickle', 'to_records', 'to_sparse', 'to_sql', 'to_stata', 'to_string', 'to_timestamp', 'to_xarray', 'transform', 'transpose', 'truediv', 'truncate', 'tshift', 'tz_convert', 'tz_localize', 'unstack', 'update', 'url', 'values', 'var', 'where', 'xs']\n"
     ]
    }
   ],
   "source": [
    "print(f\"dir of a DataFrame is...\\n\\n{dir(df)}\")"
   ]
  },
  {
   "cell_type": "code",
   "execution_count": 23,
   "metadata": {},
   "outputs": [
    {
     "ename": "ImportError",
     "evalue": "lxml not found, please install it",
     "traceback": [
      "\u001b[0;31m---------------------------------------------------------------------------\u001b[0m",
      "\u001b[0;31mImportError\u001b[0m                               Traceback (most recent call last)",
      "\u001b[0;32m<ipython-input-23-6c3883aa0362>\u001b[0m in \u001b[0;36m<module>\u001b[0;34m()\u001b[0m\n\u001b[1;32m      1\u001b[0m \u001b[0;32mimport\u001b[0m \u001b[0mpandas\u001b[0m \u001b[0;32mas\u001b[0m \u001b[0mpd\u001b[0m\u001b[0;34m\u001b[0m\u001b[0m\n\u001b[0;32m----> 2\u001b[0;31m \u001b[0mfrom_url\u001b[0m \u001b[0;34m=\u001b[0m \u001b[0mpd\u001b[0m\u001b[0;34m.\u001b[0m\u001b[0mread_html\u001b[0m\u001b[0;34m(\u001b[0m\u001b[0;34m\"http://pandas.pydata.org/pandas-docs/stable/comparison_with_sql.html\"\u001b[0m\u001b[0;34m)\u001b[0m\u001b[0;34m\u001b[0m\u001b[0m\n\u001b[0m\u001b[1;32m      3\u001b[0m \u001b[0mprint\u001b[0m\u001b[0;34m(\u001b[0m\u001b[0mfrom_url\u001b[0m\u001b[0;34m)\u001b[0m\u001b[0;34m\u001b[0m\u001b[0m\n",
      "\u001b[0;32m~/.pyenv/versions/3.6.1/lib/python3.6/site-packages/pandas/io/html.py\u001b[0m in \u001b[0;36mread_html\u001b[0;34m(io, match, flavor, header, index_col, skiprows, attrs, parse_dates, tupleize_cols, thousands, encoding, decimal, converters, na_values, keep_default_na)\u001b[0m\n\u001b[1;32m    904\u001b[0m                   \u001b[0mthousands\u001b[0m\u001b[0;34m=\u001b[0m\u001b[0mthousands\u001b[0m\u001b[0;34m,\u001b[0m \u001b[0mattrs\u001b[0m\u001b[0;34m=\u001b[0m\u001b[0mattrs\u001b[0m\u001b[0;34m,\u001b[0m \u001b[0mencoding\u001b[0m\u001b[0;34m=\u001b[0m\u001b[0mencoding\u001b[0m\u001b[0;34m,\u001b[0m\u001b[0;34m\u001b[0m\u001b[0m\n\u001b[1;32m    905\u001b[0m                   \u001b[0mdecimal\u001b[0m\u001b[0;34m=\u001b[0m\u001b[0mdecimal\u001b[0m\u001b[0;34m,\u001b[0m \u001b[0mconverters\u001b[0m\u001b[0;34m=\u001b[0m\u001b[0mconverters\u001b[0m\u001b[0;34m,\u001b[0m \u001b[0mna_values\u001b[0m\u001b[0;34m=\u001b[0m\u001b[0mna_values\u001b[0m\u001b[0;34m,\u001b[0m\u001b[0;34m\u001b[0m\u001b[0m\n\u001b[0;32m--> 906\u001b[0;31m                   keep_default_na=keep_default_na)\n\u001b[0m",
      "\u001b[0;32m~/.pyenv/versions/3.6.1/lib/python3.6/site-packages/pandas/io/html.py\u001b[0m in \u001b[0;36m_parse\u001b[0;34m(flavor, io, match, attrs, encoding, **kwargs)\u001b[0m\n\u001b[1;32m    731\u001b[0m     \u001b[0mretained\u001b[0m \u001b[0;34m=\u001b[0m \u001b[0;32mNone\u001b[0m\u001b[0;34m\u001b[0m\u001b[0m\n\u001b[1;32m    732\u001b[0m     \u001b[0;32mfor\u001b[0m \u001b[0mflav\u001b[0m \u001b[0;32min\u001b[0m \u001b[0mflavor\u001b[0m\u001b[0;34m:\u001b[0m\u001b[0;34m\u001b[0m\u001b[0m\n\u001b[0;32m--> 733\u001b[0;31m         \u001b[0mparser\u001b[0m \u001b[0;34m=\u001b[0m \u001b[0m_parser_dispatch\u001b[0m\u001b[0;34m(\u001b[0m\u001b[0mflav\u001b[0m\u001b[0;34m)\u001b[0m\u001b[0;34m\u001b[0m\u001b[0m\n\u001b[0m\u001b[1;32m    734\u001b[0m         \u001b[0mp\u001b[0m \u001b[0;34m=\u001b[0m \u001b[0mparser\u001b[0m\u001b[0;34m(\u001b[0m\u001b[0mio\u001b[0m\u001b[0;34m,\u001b[0m \u001b[0mcompiled_match\u001b[0m\u001b[0;34m,\u001b[0m \u001b[0mattrs\u001b[0m\u001b[0;34m,\u001b[0m \u001b[0mencoding\u001b[0m\u001b[0;34m)\u001b[0m\u001b[0;34m\u001b[0m\u001b[0m\n\u001b[1;32m    735\u001b[0m \u001b[0;34m\u001b[0m\u001b[0m\n",
      "\u001b[0;32m~/.pyenv/versions/3.6.1/lib/python3.6/site-packages/pandas/io/html.py\u001b[0m in \u001b[0;36m_parser_dispatch\u001b[0;34m(flavor)\u001b[0m\n\u001b[1;32m    691\u001b[0m     \u001b[0;32melse\u001b[0m\u001b[0;34m:\u001b[0m\u001b[0;34m\u001b[0m\u001b[0m\n\u001b[1;32m    692\u001b[0m         \u001b[0;32mif\u001b[0m \u001b[0;32mnot\u001b[0m \u001b[0m_HAS_LXML\u001b[0m\u001b[0;34m:\u001b[0m\u001b[0;34m\u001b[0m\u001b[0m\n\u001b[0;32m--> 693\u001b[0;31m             \u001b[0;32mraise\u001b[0m \u001b[0mImportError\u001b[0m\u001b[0;34m(\u001b[0m\u001b[0;34m\"lxml not found, please install it\"\u001b[0m\u001b[0;34m)\u001b[0m\u001b[0;34m\u001b[0m\u001b[0m\n\u001b[0m\u001b[1;32m    694\u001b[0m     \u001b[0;32mreturn\u001b[0m \u001b[0m_valid_parsers\u001b[0m\u001b[0;34m[\u001b[0m\u001b[0mflavor\u001b[0m\u001b[0;34m]\u001b[0m\u001b[0;34m\u001b[0m\u001b[0m\n\u001b[1;32m    695\u001b[0m \u001b[0;34m\u001b[0m\u001b[0m\n",
      "\u001b[0;31mImportError\u001b[0m: lxml not found, please install it"
     ],
     "output_type": "error"
    }
   ],
   "source": [
    "import pandas as pd\n",
    "from_url = pd.read_html(\"http://pandas.pydata.org/pandas-docs/stable/comparison_with_sql.html\")\n",
    "print(from_url)"
   ]
  },
  {
   "cell_type": "markdown",
   "metadata": {},
   "source": [
    "## Data can be also fetched from a remote location "
   ]
  },
  {
   "cell_type": "code",
   "execution_count": 25,
   "metadata": {},
   "outputs": [],
   "source": [
    "df = pd.read_csv(open(\"road_safety/Accidents_2015.csv\", encoding=\"utf-8\"), low_memory=False)"
   ]
  },
  {
   "cell_type": "code",
   "execution_count": 26,
   "metadata": {},
   "outputs": [
    {
     "name": "stdout",
     "output_type": "stream",
     "text": [
      "       Accident_Index  Location_Easting_OSGR  Location_Northing_OSGR  \\\n0       201501BS70001               525130.0                180050.0   \n1       201501BS70002               526530.0                178560.0   \n2       201501BS70004               524610.0                181080.0   \n3       201501BS70005               524420.0                181080.0   \n4       201501BS70008               524630.0                179040.0   \n5       201501BS70009               525480.0                179530.0   \n6       201501BS70010               526890.0                178940.0   \n7       201501BS70011               527590.0                178660.0   \n8       201501BS70012               524170.0                180930.0   \n9       201501BS70013               525010.0                181200.0   \n10      201501BS70014               523850.0                181450.0   \n11      201501BS70015               526110.0                179650.0   \n12      201501BS70016               526970.0                178510.0   \n13      201501BS70017               525350.0                178640.0   \n14      201501BS70018               527370.0                178170.0   \n15      201501BS70019               527370.0                178180.0   \n16      201501BS70020               524020.0                181050.0   \n17      201501BS70022               526200.0                177720.0   \n18      201501BS70023               524450.0                181560.0   \n19      201501BS70024               526940.0                178480.0   \n20      201501BS70026               527600.0                179480.0   \n21      201501BS70027               525560.0                178170.0   \n22      201501BS70029               525510.0                178130.0   \n23      201501BS70030               523910.0                181390.0   \n24      201501BS70033               526090.0                177600.0   \n25      201501BS70034               527560.0                179160.0   \n26      201501BS70035               527950.0                178890.0   \n27      201501BS70036               525390.0                180190.0   \n28      201501BS70037               527350.0                177640.0   \n29      201501BS70038               527340.0                178160.0   \n...               ...                    ...                     ...   \n140026  2015984126215               338953.0                576296.0   \n140027  2015984126815               317327.0                566149.0   \n140028  2015984126915               318128.0                575574.0   \n140029  2015984127315               320333.0                567053.0   \n140030  2015984127515               319848.0                566515.0   \n140031  2015984127615               338620.0                595149.0   \n140032  2015984128215               327982.0                570650.0   \n140033  2015984128515               318980.0                575210.0   \n140034  2015984129115               309715.0                598908.0   \n140035  2015984129715               330766.0                567430.0   \n140036  2015984130315               312312.0                605860.0   \n140037  2015984130815               310460.0                604532.0   \n140038  2015984131215               328774.0                567001.0   \n140039  2015984132215               320174.0                566497.0   \n140040  2015984132315               325193.0                568986.0   \n140041  2015984132815               315619.0                578498.0   \n140042  2015984133015               319506.0                566586.0   \n140043  2015984133115               308738.0                579979.0   \n140044  2015984133815               314076.0                578925.0   \n140045  2015984134815               310142.0                596869.0   \n140046  2015984135815               338928.0                576364.0   \n140047  2015984136815               324728.0                566339.0   \n140048  2015984137515               327369.0                566993.0   \n140049  2015984137615               319301.0                566593.0   \n140050  2015984139015               304440.0                580166.0   \n140051  2015984139115               312087.0                570791.0   \n140052  2015984139715               320671.0                569791.0   \n140053  2015984140215               311731.0                586343.0   \n140054  2015984140515               328273.0                570137.0   \n140055  2015984141415               314050.0                579638.0   \n\n        Longitude   Latitude  Police_Force  Accident_Severity  \\\n0       -0.198465  51.505538             1                  3   \n1       -0.178838  51.491836             1                  3   \n2       -0.205590  51.514910             1                  3   \n3       -0.208327  51.514952             1                  3   \n4       -0.206022  51.496572             1                  2   \n5       -0.193610  51.500788             1                  3   \n6       -0.173519  51.495171             1                  3   \n7       -0.163542  51.492497             1                  3   \n8       -0.211980  51.513659             1                  3   \n9       -0.199786  51.515900             1                  3   \n10      -0.216407  51.518402             1                  3   \n11      -0.184495  51.501726             1                  3   \n12      -0.172522  51.491289             1                  3   \n13      -0.195797  51.492818             1                  3   \n14      -0.166886  51.488143             1                  3   \n15      -0.166882  51.488233             1                  3   \n16      -0.214099  51.514770             1                  3   \n17      -0.183889  51.484361             1                  3   \n18      -0.207725  51.519259             1                  3   \n19      -0.172964  51.491026             1                  3   \n20      -0.163102  51.499864             1                  2   \n21      -0.192941  51.488548             1                  3   \n22      -0.193675  51.488199             1                  3   \n23      -0.215564  51.517850             1                  3   \n24      -0.185515  51.483307             1                  3   \n25      -0.163793  51.496997             1                  3   \n26      -0.158276  51.494483             1                  3   \n27      -0.194671  51.506739             1                  3   \n28      -0.167365  51.483385             1                  3   \n29      -0.167321  51.488060             1                  3   \n...           ...        ...           ...                ...   \n140026  -2.957692  55.077345            98                  3   \n140027  -3.293388  54.983052            98                  3   \n140028  -3.283579  55.067857            98                  3   \n140029  -3.246680  54.991664            98                  3   \n140030  -3.254108  54.986752            98                  3   \n140031  -2.966998  55.246691            98                  3   \n140032  -3.128065  55.025147            98                  1   \n140033  -3.270137  55.064727            98                  2   \n140034  -3.422724  55.276010            98                  3   \n140035  -3.083745  54.996613            98                  3   \n140036  -3.384031  55.338930            98                  3   \n140037  -3.412795  55.326666            98                  2   \n140038  -3.114769  54.992477            98                  3   \n140039  -3.249009  54.986643            98                  3   \n140040  -3.171246  55.009785            98                  3   \n140041  -3.323723  55.093705            98                  2   \n140042  -3.259471  54.987335            98                  3   \n140043  -3.431983  55.105789            98                  3   \n140044  -3.348023  55.097276            98                  2   \n140045  -3.415353  55.257772            98                  3   \n140046  -2.958098  55.077953            98                  3   \n140047  -3.177818  54.985933            98                  3   \n140048  -3.136722  54.992202            98                  3   \n140049  -3.262676  54.987365            98                  3   \n140050  -3.499388  55.106659            98                  3   \n140051  -3.376671  55.023855            98                  3   \n140052  -3.242159  55.016316            98                  3   \n140053  -3.387067  55.163502            98                  2   \n140054  -3.123385  55.020580            98                  3   \n140055  -3.348646  55.103676            98                  3   \n\n        Number_of_Vehicles  Number_of_Casualties        Date  \\\n0                        1                     1  12/01/2015   \n1                        1                     1  12/01/2015   \n2                        1                     1  12/01/2015   \n3                        1                     1  13/01/2015   \n4                        2                     1  09/01/2015   \n5                        2                     1  15/01/2015   \n6                        2                     1  15/01/2015   \n7                        2                     1  18/01/2015   \n8                        2                     1  16/01/2015   \n9                        2                     2  20/01/2015   \n10                       2                     1  23/01/2015   \n11                       1                     2  22/01/2015   \n12                       2                     1  21/01/2015   \n13                       1                     1  21/01/2015   \n14                       1                     1  23/01/2015   \n15                       1                     1  23/01/2015   \n16                       2                     1  23/01/2015   \n17                       2                     1  25/01/2015   \n18                       1                     1  24/01/2015   \n19                       2                     1  23/01/2015   \n20                       1                     1  23/01/2015   \n21                       1                     1  20/01/2015   \n22                       2                     1  20/01/2015   \n23                       2                     2  28/01/2015   \n24                       2                     2  30/01/2015   \n25                       1                     1  29/01/2015   \n26                       1                     1  29/01/2015   \n27                       1                     1  30/01/2015   \n28                       2                     1  01/02/2015   \n29                       1                     1  30/01/2015   \n...                    ...                   ...         ...   \n140026                   3                     2  17/08/2015   \n140027                   2                     2  21/08/2015   \n140028                   2                     3  24/08/2015   \n140029                   2                     1  17/08/2015   \n140030                   2                     1  23/08/2015   \n140031                   1                     1  27/08/2015   \n140032                   1                     2  30/08/2015   \n140033                   1                     1  04/09/2015   \n140034                   2                     1  09/09/2015   \n140035                   2                     1  10/09/2015   \n140036                   2                     1  27/09/2015   \n140037                   1                     1  03/10/2015   \n140038                   1                     1  27/09/2015   \n140039                   1                     1  20/10/2015   \n140040                   2                     2  23/10/2015   \n140041                   2                     1  02/11/2015   \n140042                   2                     1  04/11/2015   \n140043                   1                     1  04/11/2015   \n140044                   3                     4  09/11/2015   \n140045                   1                     1  28/10/2015   \n140046                   2                     1  20/11/2015   \n140047                   1                     2  24/11/2015   \n140048                   2                     1  01/12/2015   \n140049                   2                     1  02/12/2015   \n140050                   1                     1  13/12/2015   \n140051                   3                     1  11/12/2015   \n140052                   2                     1  02/12/2015   \n140053                   1                     4  23/12/2015   \n140054                   3                     3  26/12/2015   \n140055                  13                     7  31/12/2015   \n\n                  ...              Pedestrian_Crossing-Human_Control  \\\n0                 ...                                              0   \n1                 ...                                              0   \n2                 ...                                              0   \n3                 ...                                              0   \n4                 ...                                              0   \n5                 ...                                              0   \n6                 ...                                              0   \n7                 ...                                              0   \n8                 ...                                              0   \n9                 ...                                              0   \n10                ...                                              0   \n11                ...                                              0   \n12                ...                                              0   \n13                ...                                              0   \n14                ...                                              0   \n15                ...                                              0   \n16                ...                                              0   \n17                ...                                              0   \n18                ...                                              0   \n19                ...                                              0   \n20                ...                                              0   \n21                ...                                              0   \n22                ...                                              0   \n23                ...                                              0   \n24                ...                                              0   \n25                ...                                              0   \n26                ...                                              0   \n27                ...                                              0   \n28                ...                                              0   \n29                ...                                              0   \n...               ...                                            ...   \n140026            ...                                              0   \n140027            ...                                              0   \n140028            ...                                              0   \n140029            ...                                              0   \n140030            ...                                              0   \n140031            ...                                              0   \n140032            ...                                              0   \n140033            ...                                              0   \n140034            ...                                              0   \n140035            ...                                              0   \n140036            ...                                              0   \n140037            ...                                              0   \n140038            ...                                              0   \n140039            ...                                              0   \n140040            ...                                              0   \n140041            ...                                              0   \n140042            ...                                              0   \n140043            ...                                              0   \n140044            ...                                              0   \n140045            ...                                              0   \n140046            ...                                              0   \n140047            ...                                              0   \n140048            ...                                              0   \n140049            ...                                              0   \n140050            ...                                              0   \n140051            ...                                              0   \n140052            ...                                              0   \n140053            ...                                              0   \n140054            ...                                              0   \n140055            ...                                              0   \n\n       Pedestrian_Crossing-Physical_Facilities  Light_Conditions  \\\n0                                            0                 4   \n1                                            0                 1   \n2                                            1                 4   \n3                                            0                 1   \n4                                            5                 1   \n5                                            4                 1   \n6                                            5                 1   \n7                                            0                 1   \n8                                            1                 1   \n9                                            0                 1   \n10                                           0                 4   \n11                                           5                 1   \n12                                           0                 4   \n13                                           0                 1   \n14                                           0                 1   \n15                                           0                 4   \n16                                           0                 1   \n17                                           5                 4   \n18                                           0                 4   \n19                                           0                 1   \n20                                           4                 4   \n21                                           5                 4   \n22                                           0                 1   \n23                                           0                 1   \n24                                           5                 4   \n25                                           5                 4   \n26                                           1                 4   \n27                                           0                 1   \n28                                           5                 1   \n29                                           0                 4   \n...                                        ...               ...   \n140026                                       0                 1   \n140027                                       0                 1   \n140028                                       0                 6   \n140029                                       0                 1   \n140030                                       0                 1   \n140031                                       0                 1   \n140032                                       0                 1   \n140033                                       0                 1   \n140034                                       0                 6   \n140035                                       0                 1   \n140036                                       0                 1   \n140037                                       0                 1   \n140038                                       0                 6   \n140039                                       0                 1   \n140040                                       0                 1   \n140041                                       0                 1   \n140042                                       4                 4   \n140043                                       0                 6   \n140044                                       0                 1   \n140045                                       0                 6   \n140046                                       0                 6   \n140047                                       0                 4   \n140048                                       0                 6   \n140049                                       5                 4   \n140050                                       0                 6   \n140051                                       0                 1   \n140052                                       0                 1   \n140053                                       0                 6   \n140054                                       0                 1   \n140055                                       0                 6   \n\n       Weather_Conditions  Road_Surface_Conditions  \\\n0                       1                        1   \n1                       1                        1   \n2                       2                        2   \n3                       1                        2   \n4                       2                        2   \n5                       1                        2   \n6                       8                        2   \n7                       1                        1   \n8                       1                        1   \n9                       8                        1   \n10                      2                        2   \n11                      1                        1   \n12                      1                        1   \n13                      1                        1   \n14                      1                        1   \n15                      1                        1   \n16                      1                        1   \n17                      1                        1   \n18                      1                        1   \n19                      1                        1   \n20                      2                        2   \n21                      1                        1   \n22                      1                        1   \n23                      2                        2   \n24                      1                        1   \n25                      1                        1   \n26                      1                        1   \n27                      1                        1   \n28                      1                        2   \n29                      1                        1   \n...                   ...                      ...   \n140026                  1                        1   \n140027                  1                        1   \n140028                  2                        5   \n140029                  1                        1   \n140030                  1                        1   \n140031                  2                        2   \n140032                  1                        1   \n140033                  1                        1   \n140034                  1                        1   \n140035                  1                        1   \n140036                  1                        1   \n140037                  1                        1   \n140038                  1                        1   \n140039                  1                        1   \n140040                  1                        1   \n140041                  1                        1   \n140042                  1                        2   \n140043                  1                        2   \n140044                  2                        2   \n140045                  1                        1   \n140046                  2                        2   \n140047                  1                        2   \n140048                  4                        2   \n140049                  2                        2   \n140050                  7                        4   \n140051                  1                        2   \n140052                  1                        2   \n140053                  4                        2   \n140054                  2                        2   \n140055                  3                        4   \n\n        Special_Conditions_at_Site  Carriageway_Hazards  Urban_or_Rural_Area  \\\n0                                0                    0                    1   \n1                                0                    0                    1   \n2                                0                    0                    1   \n3                                0                    0                    1   \n4                                0                    0                    1   \n5                                0                    0                    1   \n6                                0                    0                    1   \n7                                0                    0                    1   \n8                                0                    0                    1   \n9                                0                    0                    1   \n10                               0                    0                    1   \n11                               0                    0                    1   \n12                               0                    0                    1   \n13                               0                    0                    1   \n14                               0                    0                    1   \n15                               0                    0                    1   \n16                               0                    0                    1   \n17                               0                    0                    1   \n18                               0                    0                    1   \n19                               0                    0                    1   \n20                               0                    0                    1   \n21                               0                    0                    1   \n22                               0                    0                    1   \n23                               0                    0                    1   \n24                               0                    0                    1   \n25                               0                    0                    1   \n26                               0                    0                    1   \n27                               0                    0                    1   \n28                               0                    0                    1   \n29                               0                    0                    1   \n...                            ...                  ...                  ...   \n140026                           0                    0                    2   \n140027                           0                    0                    2   \n140028                           0                    0                    2   \n140029                           0                    0                    2   \n140030                           0                    0                    2   \n140031                           0                    0                    2   \n140032                           0                    0                    2   \n140033                           0                    0                    2   \n140034                           0                    0                    2   \n140035                           0                    0                    2   \n140036                           0                    0                    2   \n140037                           0                    0                    2   \n140038                           0                    0                    2   \n140039                           0                    0                    2   \n140040                           0                    0                    2   \n140041                           0                    0                    2   \n140042                           0                    0                    2   \n140043                           0                    0                    2   \n140044                           0                    0                    2   \n140045                           0                    7                    2   \n140046                           0                    0                    2   \n140047                           0                    0                    2   \n140048                           0                    0                    2   \n140049                           0                    0                    2   \n140050                           0                    0                    2   \n140051                           0                    0                    2   \n140052                           0                    0                    2   \n140053                           0                    0                    2   \n140054                           0                    0                    2   \n140055                           0                    0                    2   \n\n        Did_Police_Officer_Attend_Scene_of_Accident  LSOA_of_Accident_Location  \n0                                                 1                  E01002825  \n1                                                 1                  E01002820  \n2                                                 1                  E01002833  \n3                                                 2                  E01002874  \n4                                                 2                  E01002814  \n5                                                 1                  E01002816  \n6                                                 1                  E01002821  \n7                                                 1                  E01002861  \n8                                                 1                  E01002879  \n9                                                 1                  E01002832  \n10                                                1                  E01002909  \n11                                                1                  E01002891  \n12                                                1                  E01002914  \n13                                                1                  E01002847  \n14                                                1                  E01002899  \n15                                                1                  E01002899  \n16                                                1                  E01002878  \n17                                                1                  E01002912  \n18                                                1                  E01002855  \n19                                                1                  E01002914  \n20                                                1                  E01002819  \n21                                                2                  E01002846  \n22                                                2                  E01002894  \n23                                                1                  E01002878  \n24                                                1                  E01002912  \n25                                                1                  E01002818  \n26                                                1                  E01002859  \n27                                                1                  E01002827  \n28                                                1                  E01002844  \n29                                                1                  E01002899  \n...                                             ...                        ...  \n140026                                            1                        NaN  \n140027                                            1                        NaN  \n140028                                            1                        NaN  \n140029                                            1                        NaN  \n140030                                            2                        NaN  \n140031                                            1                        NaN  \n140032                                            1                        NaN  \n140033                                            1                        NaN  \n140034                                            1                        NaN  \n140035                                            1                        NaN  \n140036                                            2                        NaN  \n140037                                            1                        NaN  \n140038                                            1                        NaN  \n140039                                            1                        NaN  \n140040                                            1                        NaN  \n140041                                            1                        NaN  \n140042                                            1                        NaN  \n140043                                            1                        NaN  \n140044                                            1                        NaN  \n140045                                            1                        NaN  \n140046                                            1                        NaN  \n140047                                            1                        NaN  \n140048                                            1                        NaN  \n140049                                            1                        NaN  \n140050                                            2                        NaN  \n140051                                            1                        NaN  \n140052                                            1                        NaN  \n140053                                            1                        NaN  \n140054                                            1                        NaN  \n140055                                            1                        NaN  \n\n[140056 rows x 32 columns]\n"
     ]
    }
   ],
   "source": [
    "print(df)"
   ]
  },
  {
   "cell_type": "code",
   "execution_count": 30,
   "metadata": {},
   "outputs": [
    {
     "name": "stdout",
     "output_type": "stream",
     "text": [
      "('Columns in the new dataframe => \\n'\n '\\n'\n \"['Accident_Index', 'Location_Easting_OSGR', 'Location_Northing_OSGR', \"\n \"'Longitude', 'Latitude', 'Police_Force', 'Accident_Severity', \"\n \"'Number_of_Vehicles', 'Number_of_Casualties', 'Date', 'Day_of_Week', 'Time', \"\n \"'Local_Authority_(District)', 'Local_Authority_(Highway)', '1st_Road_Class', \"\n \"'1st_Road_Number', 'Road_Type', 'Speed_limit', 'Junction_Detail', \"\n \"'Junction_Control', '2nd_Road_Class', '2nd_Road_Number', \"\n \"'Pedestrian_Crossing-Human_Control', \"\n \"'Pedestrian_Crossing-Physical_Facilities', 'Light_Conditions', \"\n \"'Weather_Conditions', 'Road_Surface_Conditions', \"\n \"'Special_Conditions_at_Site', 'Carriageway_Hazards', 'Urban_or_Rural_Area', \"\n \"'Did_Police_Officer_Attend_Scene_of_Accident', 'LSOA_of_Accident_Location']\")\n"
     ]
    }
   ],
   "source": [
    "from pprint import pprint\n",
    "pprint(f\"Columns in the new dataframe => \\n\\n{list(df.columns)}\")"
   ]
  },
  {
   "cell_type": "code",
   "execution_count": null,
   "metadata": {},
   "outputs": [],
   "source": [
    "connection: Connection = sqlite3.connect(\"database\")\n",
    "cursor: Cursor = connection.cursor()\n",
    "df.to_sql(\"accidents_2015\", connection)"
   ]
  },
  {
   "cell_type": "code",
   "execution_count": null,
   "metadata": {},
   "outputs": [],
   "source": [
    ""
   ]
  }
 ],
 "metadata": {
  "kernelspec": {
   "display_name": "Python 2",
   "language": "python",
   "name": "python2"
  },
  "language_info": {
   "codemirror_mode": {
    "name": "ipython",
    "version": 2.0
   },
   "file_extension": ".py",
   "mimetype": "text/x-python",
   "name": "python",
   "nbconvert_exporter": "python",
   "pygments_lexer": "ipython2",
   "version": "2.7.6"
  }
 },
 "nbformat": 4,
 "nbformat_minor": 0
}