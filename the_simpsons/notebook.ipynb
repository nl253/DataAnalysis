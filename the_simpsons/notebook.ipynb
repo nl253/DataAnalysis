{
 "cells": [
  {
   "cell_type": "code",
   "execution_count": 3,
   "metadata": {},
   "outputs": [],
   "source": [
    "import pandas as pd\n",
    "import numpy as np\n",
    "from matplotlib import pyplot as plt\n",
    "import seaborn as sns"
   ]
  },
  {
   "cell_type": "code",
   "execution_count": 5,
   "metadata": {},
   "outputs": [
    {
     "name": "stdout",
     "output_type": "stream",
     "text": [
      "simpsons_characters.csv\n",
      "simpsons_episodes.csv\n",
      "simpsons_locations.csv\n",
      "simpsons_script_lines.csv\n"
     ]
    }
   ],
   "source": [
    "%%bash\n",
    "\n",
    "ls *.csv"
   ]
  },
  {
   "cell_type": "code",
   "execution_count": 18,
   "metadata": {},
   "outputs": [],
   "source": [
    "characters = pd.read_csv(\"./simpsons_characters.csv\")"
   ]
  },
  {
   "cell_type": "code",
   "execution_count": 20,
   "metadata": {},
   "outputs": [
    {
     "name": "stdout",
     "output_type": "stream",
     "text": [
      "<class 'pandas.core.frame.DataFrame'>\n",
      "RangeIndex: 6722 entries, 0 to 6721\n",
      "Data columns (total 4 columns):\n",
      "id                 6722 non-null int64\n",
      "name               6722 non-null object\n",
      "normalized_name    6722 non-null object\n",
      "gender             323 non-null object\n",
      "dtypes: int64(1), object(3)\n",
      "memory usage: 210.1+ KB\n"
     ]
    }
   ],
   "source": [
    "characters.info()"
   ]
  },
  {
   "cell_type": "code",
   "execution_count": 22,
   "metadata": {},
   "outputs": [],
   "source": [
    "episodes = pd.read_csv(\"./simpsons_episodes.csv\")"
   ]
  },
  {
   "cell_type": "code",
   "execution_count": 24,
   "metadata": {},
   "outputs": [
    {
     "name": "stdout",
     "output_type": "stream",
     "text": [
      "<class 'pandas.core.frame.DataFrame'>\n",
      "RangeIndex: 600 entries, 0 to 599\n",
      "Data columns (total 13 columns):\n",
      "id                        600 non-null int64\n",
      "title                     600 non-null object\n",
      "original_air_date         600 non-null object\n",
      "production_code           600 non-null object\n",
      "season                    600 non-null int64\n",
      "number_in_season          600 non-null int64\n",
      "number_in_series          600 non-null int64\n",
      "us_viewers_in_millions    594 non-null float64\n",
      "views                     596 non-null float64\n",
      "imdb_rating               597 non-null float64\n",
      "imdb_votes                597 non-null float64\n",
      "image_url                 596 non-null object\n",
      "video_url                 596 non-null object\n",
      "dtypes: float64(4), int64(4), object(5)\n",
      "memory usage: 61.0+ KB\n"
     ]
    }
   ],
   "source": [
    "episodes.info()"
   ]
  },
  {
   "cell_type": "code",
   "execution_count": 26,
   "metadata": {},
   "outputs": [
    {
     "data": {
      "text/html": [
       "<div>\n",
       "<style scoped>\n",
       "    .dataframe tbody tr th:only-of-type {\n",
       "        vertical-align: middle;\n",
       "    }\n",
       "\n",
       "    .dataframe tbody tr th {\n",
       "        vertical-align: top;\n",
       "    }\n",
       "\n",
       "    .dataframe thead th {\n",
       "        text-align: right;\n",
       "    }\n",
       "</style>\n",
       "<table border=\"1\" class=\"dataframe\">\n",
       "  <thead>\n",
       "    <tr style=\"text-align: right;\">\n",
       "      <th></th>\n",
       "      <th>id</th>\n",
       "      <th>title</th>\n",
       "      <th>original_air_date</th>\n",
       "      <th>production_code</th>\n",
       "      <th>season</th>\n",
       "      <th>number_in_season</th>\n",
       "      <th>number_in_series</th>\n",
       "      <th>us_viewers_in_millions</th>\n",
       "      <th>views</th>\n",
       "      <th>imdb_rating</th>\n",
       "      <th>imdb_votes</th>\n",
       "      <th>image_url</th>\n",
       "      <th>video_url</th>\n",
       "    </tr>\n",
       "  </thead>\n",
       "  <tbody>\n",
       "    <tr>\n",
       "      <th>241</th>\n",
       "      <td>1</td>\n",
       "      <td>Simpsons Roasting on an Open Fire</td>\n",
       "      <td>1989-12-17</td>\n",
       "      <td>7G08</td>\n",
       "      <td>1</td>\n",
       "      <td>1</td>\n",
       "      <td>1</td>\n",
       "      <td>26.7</td>\n",
       "      <td>171408.0</td>\n",
       "      <td>8.2</td>\n",
       "      <td>3734.0</td>\n",
       "      <td>http://static-media.fxx.com/img/FX_Networks_-_...</td>\n",
       "      <td>http://www.simpsonsworld.com/video/273376835817</td>\n",
       "    </tr>\n",
       "    <tr>\n",
       "      <th>221</th>\n",
       "      <td>16</td>\n",
       "      <td>Treehouse of Horror</td>\n",
       "      <td>1990-10-25</td>\n",
       "      <td>7F04</td>\n",
       "      <td>2</td>\n",
       "      <td>3</td>\n",
       "      <td>16</td>\n",
       "      <td>27.4</td>\n",
       "      <td>130282.0</td>\n",
       "      <td>8.2</td>\n",
       "      <td>1786.0</td>\n",
       "      <td>http://static-media.fxx.com/img/FX_Networks_-_...</td>\n",
       "      <td>http://www.simpsonsworld.com/video/260538435884</td>\n",
       "    </tr>\n",
       "    <tr>\n",
       "      <th>533</th>\n",
       "      <td>109</td>\n",
       "      <td>Treehouse of Horror V</td>\n",
       "      <td>1994-10-30</td>\n",
       "      <td>2F03</td>\n",
       "      <td>6</td>\n",
       "      <td>6</td>\n",
       "      <td>109</td>\n",
       "      <td>22.2</td>\n",
       "      <td>119295.0</td>\n",
       "      <td>9.0</td>\n",
       "      <td>1690.0</td>\n",
       "      <td>http://static-media.fxx.com/img/FX_Networks_-_...</td>\n",
       "      <td>http://www.simpsonsworld.com/video/299597891663</td>\n",
       "    </tr>\n",
       "    <tr>\n",
       "      <th>50</th>\n",
       "      <td>134</td>\n",
       "      <td>Treehouse of Horror VI</td>\n",
       "      <td>1995-10-29</td>\n",
       "      <td>3F04</td>\n",
       "      <td>7</td>\n",
       "      <td>6</td>\n",
       "      <td>134</td>\n",
       "      <td>19.7</td>\n",
       "      <td>110342.0</td>\n",
       "      <td>8.5</td>\n",
       "      <td>1304.0</td>\n",
       "      <td>http://static-media.fxx.com/img/FX_Networks_-_...</td>\n",
       "      <td>http://www.simpsonsworld.com/video/310404163601</td>\n",
       "    </tr>\n",
       "    <tr>\n",
       "      <th>252</th>\n",
       "      <td>86</td>\n",
       "      <td>Treehouse of Horror IV</td>\n",
       "      <td>1993-10-28</td>\n",
       "      <td>1F04</td>\n",
       "      <td>5</td>\n",
       "      <td>5</td>\n",
       "      <td>86</td>\n",
       "      <td>24.0</td>\n",
       "      <td>110251.0</td>\n",
       "      <td>8.7</td>\n",
       "      <td>1437.0</td>\n",
       "      <td>http://static-media.fxx.com/img/FX_Networks_-_...</td>\n",
       "      <td>http://www.simpsonsworld.com/video/275206211805</td>\n",
       "    </tr>\n",
       "  </tbody>\n",
       "</table>\n",
       "</div>"
      ],
      "text/plain": [
       "      id                              title original_air_date production_code  \\\n",
       "241    1  Simpsons Roasting on an Open Fire        1989-12-17            7G08   \n",
       "221   16                Treehouse of Horror        1990-10-25            7F04   \n",
       "533  109              Treehouse of Horror V        1994-10-30            2F03   \n",
       "50   134             Treehouse of Horror VI        1995-10-29            3F04   \n",
       "252   86             Treehouse of Horror IV        1993-10-28            1F04   \n",
       "\n",
       "     season  number_in_season  number_in_series  us_viewers_in_millions  \\\n",
       "241       1                 1                 1                    26.7   \n",
       "221       2                 3                16                    27.4   \n",
       "533       6                 6               109                    22.2   \n",
       "50        7                 6               134                    19.7   \n",
       "252       5                 5                86                    24.0   \n",
       "\n",
       "        views  imdb_rating  imdb_votes  \\\n",
       "241  171408.0          8.2      3734.0   \n",
       "221  130282.0          8.2      1786.0   \n",
       "533  119295.0          9.0      1690.0   \n",
       "50   110342.0          8.5      1304.0   \n",
       "252  110251.0          8.7      1437.0   \n",
       "\n",
       "                                             image_url  \\\n",
       "241  http://static-media.fxx.com/img/FX_Networks_-_...   \n",
       "221  http://static-media.fxx.com/img/FX_Networks_-_...   \n",
       "533  http://static-media.fxx.com/img/FX_Networks_-_...   \n",
       "50   http://static-media.fxx.com/img/FX_Networks_-_...   \n",
       "252  http://static-media.fxx.com/img/FX_Networks_-_...   \n",
       "\n",
       "                                           video_url  \n",
       "241  http://www.simpsonsworld.com/video/273376835817  \n",
       "221  http://www.simpsonsworld.com/video/260538435884  \n",
       "533  http://www.simpsonsworld.com/video/299597891663  \n",
       "50   http://www.simpsonsworld.com/video/310404163601  \n",
       "252  http://www.simpsonsworld.com/video/275206211805  "
      ]
     },
     "execution_count": 26,
     "metadata": {},
     "output_type": "execute_result"
    }
   ],
   "source": [
    "episodes.sort_values(by=\"views\", ascending=False).head()"
   ]
  },
  {
   "cell_type": "code",
   "execution_count": 30,
   "metadata": {},
   "outputs": [
    {
     "data": {
      "text/html": [
       "<div>\n",
       "<style scoped>\n",
       "    .dataframe tbody tr th:only-of-type {\n",
       "        vertical-align: middle;\n",
       "    }\n",
       "\n",
       "    .dataframe tbody tr th {\n",
       "        vertical-align: top;\n",
       "    }\n",
       "\n",
       "    .dataframe thead th {\n",
       "        text-align: right;\n",
       "    }\n",
       "</style>\n",
       "<table border=\"1\" class=\"dataframe\">\n",
       "  <thead>\n",
       "    <tr style=\"text-align: right;\">\n",
       "      <th></th>\n",
       "      <th>id</th>\n",
       "      <th>title</th>\n",
       "      <th>original_air_date</th>\n",
       "      <th>production_code</th>\n",
       "      <th>season</th>\n",
       "      <th>number_in_season</th>\n",
       "      <th>number_in_series</th>\n",
       "      <th>us_viewers_in_millions</th>\n",
       "      <th>views</th>\n",
       "      <th>imdb_rating</th>\n",
       "      <th>imdb_votes</th>\n",
       "      <th>image_url</th>\n",
       "      <th>video_url</th>\n",
       "    </tr>\n",
       "  </thead>\n",
       "  <tbody>\n",
       "    <tr>\n",
       "      <th>537</th>\n",
       "      <td>176</td>\n",
       "      <td>Homer's Enemy</td>\n",
       "      <td>1997-05-04</td>\n",
       "      <td>4F19</td>\n",
       "      <td>8</td>\n",
       "      <td>23</td>\n",
       "      <td>176</td>\n",
       "      <td>11.8</td>\n",
       "      <td>74177.0</td>\n",
       "      <td>9.2</td>\n",
       "      <td>2256.0</td>\n",
       "      <td>http://static-media.fxx.com/img/FX_Networks_-_...</td>\n",
       "      <td>http://www.simpsonsworld.com/video/436466755640</td>\n",
       "    </tr>\n",
       "    <tr>\n",
       "      <th>535</th>\n",
       "      <td>155</td>\n",
       "      <td>You Only Move Twice</td>\n",
       "      <td>1996-11-03</td>\n",
       "      <td>3F23</td>\n",
       "      <td>8</td>\n",
       "      <td>2</td>\n",
       "      <td>155</td>\n",
       "      <td>13.9</td>\n",
       "      <td>79609.0</td>\n",
       "      <td>9.2</td>\n",
       "      <td>2439.0</td>\n",
       "      <td>http://static-media.fxx.com/img/FX_Networks_-_...</td>\n",
       "      <td>http://www.simpsonsworld.com/video/306390595776</td>\n",
       "    </tr>\n",
       "    <tr>\n",
       "      <th>323</th>\n",
       "      <td>179</td>\n",
       "      <td>The City of New York vs. Homer Simpson</td>\n",
       "      <td>1997-09-21</td>\n",
       "      <td>4F22</td>\n",
       "      <td>9</td>\n",
       "      <td>1</td>\n",
       "      <td>179</td>\n",
       "      <td>10.5</td>\n",
       "      <td>62962.0</td>\n",
       "      <td>9.1</td>\n",
       "      <td>1918.0</td>\n",
       "      <td>http://static-media.fxx.com/img/FX_Networks_-_...</td>\n",
       "      <td>http://www.simpsonsworld.com/video/436516931611</td>\n",
       "    </tr>\n",
       "    <tr>\n",
       "      <th>534</th>\n",
       "      <td>128</td>\n",
       "      <td>Who Shot Mr. Burns? (Part One)</td>\n",
       "      <td>1995-05-21</td>\n",
       "      <td>2F16</td>\n",
       "      <td>6</td>\n",
       "      <td>25</td>\n",
       "      <td>128</td>\n",
       "      <td>15.0</td>\n",
       "      <td>86070.0</td>\n",
       "      <td>9.1</td>\n",
       "      <td>1619.0</td>\n",
       "      <td>http://static-media.fxx.com/img/FX_Networks_-_...</td>\n",
       "      <td>http://www.simpsonsworld.com/video/294781507859</td>\n",
       "    </tr>\n",
       "    <tr>\n",
       "      <th>261</th>\n",
       "      <td>76</td>\n",
       "      <td>Last Exit to Springfield</td>\n",
       "      <td>1993-03-11</td>\n",
       "      <td>9F15</td>\n",
       "      <td>4</td>\n",
       "      <td>17</td>\n",
       "      <td>76</td>\n",
       "      <td>22.4</td>\n",
       "      <td>71907.0</td>\n",
       "      <td>9.0</td>\n",
       "      <td>1827.0</td>\n",
       "      <td>http://static-media.fxx.com/img/FX_Networks_-_...</td>\n",
       "      <td>http://www.simpsonsworld.com/video/357630019692</td>\n",
       "    </tr>\n",
       "  </tbody>\n",
       "</table>\n",
       "</div>"
      ],
      "text/plain": [
       "      id                                   title original_air_date  \\\n",
       "537  176                           Homer's Enemy        1997-05-04   \n",
       "535  155                     You Only Move Twice        1996-11-03   \n",
       "323  179  The City of New York vs. Homer Simpson        1997-09-21   \n",
       "534  128          Who Shot Mr. Burns? (Part One)        1995-05-21   \n",
       "261   76                Last Exit to Springfield        1993-03-11   \n",
       "\n",
       "    production_code  season  number_in_season  number_in_series  \\\n",
       "537            4F19       8                23               176   \n",
       "535            3F23       8                 2               155   \n",
       "323            4F22       9                 1               179   \n",
       "534            2F16       6                25               128   \n",
       "261            9F15       4                17                76   \n",
       "\n",
       "     us_viewers_in_millions    views  imdb_rating  imdb_votes  \\\n",
       "537                    11.8  74177.0          9.2      2256.0   \n",
       "535                    13.9  79609.0          9.2      2439.0   \n",
       "323                    10.5  62962.0          9.1      1918.0   \n",
       "534                    15.0  86070.0          9.1      1619.0   \n",
       "261                    22.4  71907.0          9.0      1827.0   \n",
       "\n",
       "                                             image_url  \\\n",
       "537  http://static-media.fxx.com/img/FX_Networks_-_...   \n",
       "535  http://static-media.fxx.com/img/FX_Networks_-_...   \n",
       "323  http://static-media.fxx.com/img/FX_Networks_-_...   \n",
       "534  http://static-media.fxx.com/img/FX_Networks_-_...   \n",
       "261  http://static-media.fxx.com/img/FX_Networks_-_...   \n",
       "\n",
       "                                           video_url  \n",
       "537  http://www.simpsonsworld.com/video/436466755640  \n",
       "535  http://www.simpsonsworld.com/video/306390595776  \n",
       "323  http://www.simpsonsworld.com/video/436516931611  \n",
       "534  http://www.simpsonsworld.com/video/294781507859  \n",
       "261  http://www.simpsonsworld.com/video/357630019692  "
      ]
     },
     "execution_count": 30,
     "metadata": {},
     "output_type": "execute_result"
    }
   ],
   "source": [
    "episodes.sort_values(by=\"imdb_rating\", ascending=False).head()"
   ]
  },
  {
   "cell_type": "code",
   "execution_count": 54,
   "metadata": {},
   "outputs": [
    {
     "data": {
      "text/markdown": [
       "\n",
       "## Correlation between views and imdb rating"
      ],
      "text/plain": [
       "<IPython.core.display.Markdown object>"
      ]
     },
     "metadata": {},
     "output_type": "display_data"
    }
   ],
   "source": [
    "%%markdown\n",
    "\n",
    "## Correlation between views and imdb rating"
   ]
  },
  {
   "cell_type": "code",
   "execution_count": 87,
   "metadata": {},
   "outputs": [
    {
     "data": {
      "text/plain": [
       "0.5755122048821844"
      ]
     },
     "execution_count": 87,
     "metadata": {},
     "output_type": "execute_result"
    }
   ],
   "source": [
    "episodes.views.corr(episodes.imdb_rating)"
   ]
  },
  {
   "cell_type": "code",
   "execution_count": 88,
   "metadata": {},
   "outputs": [
    {
     "data": {
      "text/markdown": [
       "\n",
       "## Change in episode rating as time passed"
      ],
      "text/plain": [
       "<IPython.core.display.Markdown object>"
      ]
     },
     "metadata": {},
     "output_type": "display_data"
    }
   ],
   "source": [
    "%%markdown\n",
    "\n",
    "## Change in episode rating as time passed"
   ]
  },
  {
   "cell_type": "code",
   "execution_count": 108,
   "metadata": {},
   "outputs": [
    {
     "data": {
      "image/png": "[encoded data removed]",
      "text/plain": [
       "<matplotlib.figure.Figure at 0x7f4deba883c8>"
      ]
     },
     "metadata": {},
     "output_type": "display_data"
    }
   ],
   "source": [
    "x = episodes.imdb_rating\n",
    "\n",
    "x.index = episodes.original_air_date\n",
    "\n",
    "x.name = \"episode rating (IMDB)\"\n",
    "\n",
    "x.rolling(30)\\\n",
    "    .mean()\\\n",
    "    .dropna()\\\n",
    "    .plot\\\n",
    "    .kde(title=\"change in imdb rating with time\",\n",
    "        legend=True, use_index=True)\n",
    "\n",
    "plt.show()"
   ]
  }
 ],
 "metadata": {
  "kernelspec": {
   "display_name": "Python 3",
   "language": "python",
   "name": "python3"
  },
  "language_info": {
   "codemirror_mode": {
    "name": "ipython",
    "version": 3
   },
   "file_extension": ".py",
   "mimetype": "text/x-python",
   "name": "python",
   "nbconvert_exporter": "python",
   "pygments_lexer": "ipython3",
   "version": "3.6.3"
  }
 },
 "nbformat": 4,
 "nbformat_minor": 2
}
