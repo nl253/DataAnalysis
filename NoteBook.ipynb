{
 "cells": [
  {
   "cell_type": "markdown",
   "metadata": {
    "collapsed": true
   },
   "source": [
    "# Natural Language Processing"
   ]
  },
  {
   "cell_type": "markdown",
   "metadata": {},
   "source": [
    ""
   ]
  },
  {
   "cell_type": "markdown",
   "metadata": {},
   "source": [
    "Sentence Tokenization"
   ]
  },
  {
   "cell_type": "code",
   "execution_count": 18,
   "metadata": {},
   "outputs": [
    {
     "name": "stdout",
     "output_type": "stream",
     "text": [
      "['\\n'\n 'This iterates over the lines of all files listed in sys.argv[1:], defaulting '\n 'to sys.stdin if the list is empty',\n \". If a filename is '-', it is also replaced by sys.stdin\",\n '. To specify an alternative list of filenames, pass it as the first argument '\n 'to input()',\n '. A single file name is also allowed',\n '.\\n'\n '\\n'\n 'All files are opened in text mode by default, but you can override this by '\n 'specifying the mode parameter in the call to input() or FileInput',\n '. If an I/O error occurs during opening or reading a file, OSError is raised']\n"
     ]
    }
   ],
   "source": [
    "import re\n",
    "from pprint import pprint\n",
    "\n",
    "text = \"\"\"\n",
    "This iterates over the lines of all files listed in sys.argv[1:], defaulting to sys.stdin if the list is empty. If a filename is '-', it is also replaced by sys.stdin. To specify an alternative list of filenames, pass it as the first argument to input(). A single file name is also allowed.\n",
    "\n",
    "All files are opened in text mode by default, but you can override this by specifying the mode parameter in the call to input() or FileInput. If an I/O error occurs during opening or reading a file, OSError is raised.\n",
    "\n",
    "\"\"\"\n",
    "\n",
    "pattern = re.compile(\"(?:(?:(?:^[ \\t\\n\\r]*)|(?:\\.[\\t\\n\\r ]+)))[A-Z].{10,700}?(?=(\\.[ \\t\\n\\r]+)|$)\", flags=re.DOTALL)\n",
    "\n",
    "matches = pattern.finditer(text)\n",
    "\n",
    "mapped_sents = map(lambda match: match.group(0), matches)\n",
    "\n",
    "sents = [sent for sent in mapped_sents if len(sent) > 3]\n",
    "\n",
    "\n",
    "pprint(sents)"
   ]
  },
  {
   "cell_type": "markdown",
   "metadata": {
    "collapsed": true
   },
   "source": [
    "Similarty we can do it with NLTK albeit slower."
   ]
  },
  {
   "cell_type": "code",
   "execution_count": 11,
   "metadata": {
    "collapsed": true
   },
   "outputs": [
    {
     "name": "stdout",
     "output_type": "stream",
     "text": [
      "['\\n'\n 'This iterates over the lines of all files listed in sys.argv[1:], defaulting '\n 'to sys.stdin if the list is empty.',\n \"If a filename is '-', it is also replaced by sys.stdin.\",\n 'To specify an alternative list of filenames, pass it as the first argument '\n 'to input().',\n 'A single file name is also allowed.',\n 'All files are opened in text mode by default, but you can override this by '\n 'specifying the mode parameter in the call to input() or FileInput.',\n 'If an I/O error occurs during opening or reading a file, OSError is raised.']\n"
     ]
    }
   ],
   "source": [
    "import nltk\n",
    "pprint(nltk.sent_tokenize(text))"
   ]
  },
  {
   "cell_type": "code",
   "execution_count": null,
   "metadata": {
    "collapsed": true
   },
   "outputs": [],
   "source": [
    ""
   ]
  }
 ],
 "metadata": {
  "kernelspec": {
   "display_name": "Python 3",
   "language": "python",
   "name": "python3"
  },
  "language_info": {
   "codemirror_mode": {
    "name": "ipython",
    "version": 3.0
   },
   "file_extension": ".py",
   "mimetype": "text/x-python",
   "name": "python",
   "nbconvert_exporter": "python",
   "pygments_lexer": "ipython3",
   "version": "3.6.1"
  }
 },
 "nbformat": 4,
 "nbformat_minor": 0
}